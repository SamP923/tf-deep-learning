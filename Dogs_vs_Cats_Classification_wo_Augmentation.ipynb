{
  "nbformat": 4,
  "nbformat_minor": 0,
  "metadata": {
    "colab": {
      "name": "Dogs_vs_Cats_Classification_wo_Augmentation",
      "private_outputs": true,
      "provenance": []
    },
    "kernelspec": {
      "name": "python3",
      "display_name": "Python 3"
    }
  },
  "cells": [
    {
      "cell_type": "markdown",
      "metadata": {
        "id": "4Fk8mS1sy0w_"
      },
      "source": [
        "# Dogs vs Cats Image Classification Without Image Augmentation\r\n",
        "**Purpose**:  \r\n",
        "Build a neural network to classify images into pictures of cats or pictures of dogs.\r\n",
        "\r\n",
        "Dataset Used: [filtered version of Dogs vs. Cats dataset from Kaggle](https://www.kaggle.com/c/dogs-vs-cats/data)\r\n",
        "\r\n",
        "\r\n",
        "Project based on [TensorFlow's classification example](https://colab.research.google.com/github/tensorflow/examples/blob/master/courses/udacity_intro_to_tensorflow_for_deep_learning/l05c01_dogs_vs_cats_without_augmentation.ipynb)"
      ]
    },
    {
      "cell_type": "code",
      "metadata": {
        "id": "I7Yro7vOyrXs"
      },
      "source": [
        "import tensorflow as tf\r\n",
        "\r\n",
        "# import tensorflow datasets\r\n",
        "from tensorflow.keras.preprocessing.image import ImageDataGenerator\r\n",
        "\r\n",
        "# helper libraries\r\n",
        "import os\r\n",
        "import numpy as np\r\n",
        "import matplotlib.pyplot as plt\r\n",
        "\r\n",
        "import logging\r\n",
        "logger = tf.get_logger()\r\n",
        "logger.setLevel(logging.ERROR)"
      ],
      "execution_count": null,
      "outputs": []
    },
    {
      "cell_type": "code",
      "metadata": {
        "id": "dHEEGIuyzi4i"
      },
      "source": [
        "# load the dataset\r\n",
        "_URL = 'https://storage.googleapis.com/mledu-datasets/cats_and_dogs_filtered.zip'\r\n",
        "zip_dir = tf.keras.utils.get_file('cats_and_dogs_filterted.zip', origin=_URL, extract=True)"
      ],
      "execution_count": null,
      "outputs": []
    },
    {
      "cell_type": "markdown",
      "metadata": {
        "id": "Z4StdiQBz4rc"
      },
      "source": [
        "The dataset we have downloaded has the following directory structure.\r\n",
        "\r\n",
        "<pre style=\"font-size: 10.0pt; font-family: Arial; line-height: 2; letter-spacing: 1.0pt;\" >\r\n",
        "<b>cats_and_dogs_filtered</b>\r\n",
        "|__ <b>train</b>\r\n",
        "    |______ <b>cats</b>: [cat.0.jpg, cat.1.jpg, cat.2.jpg ...]\r\n",
        "    |______ <b>dogs</b>: [dog.0.jpg, dog.1.jpg, dog.2.jpg ...]\r\n",
        "|__ <b>validation</b>\r\n",
        "    |______ <b>cats</b>: [cat.2000.jpg, cat.2001.jpg, cat.2002.jpg ...]\r\n",
        "    |______ <b>dogs</b>: [dog.2000.jpg, dog.2001.jpg, dog.2002.jpg ...]\r\n",
        "</pre>\r\n",
        "\r\n",
        "We can list the directories with the following terminal command:"
      ]
    },
    {
      "cell_type": "code",
      "metadata": {
        "id": "fLaFoRfQz1i4"
      },
      "source": [
        "zip_dir_base = os.path.dirname(zip_dir)\r\n",
        "!find $zip_dir_base -type d -print"
      ],
      "execution_count": null,
      "outputs": []
    },
    {
      "cell_type": "code",
      "metadata": {
        "id": "gWgaPBxQz20Q"
      },
      "source": [
        "# assign variables with the proper file path for training/validation sets\r\n",
        "base_dir = os.path.join(os.path.dirname(zip_dir), 'cats_and_dogs_filtered')\r\n",
        "train_dir = os.path.join(base_dir, 'train')\r\n",
        "validation_dir = os.path.join(base_dir, 'validation')\r\n",
        "\r\n",
        "train_cats_dir = os.path.join(train_dir, 'cats')  # directory with our training cat pictures\r\n",
        "train_dogs_dir = os.path.join(train_dir, 'dogs')  # directory with our training dog pictures\r\n",
        "validation_cats_dir = os.path.join(validation_dir, 'cats')  # directory with our validation cat pictures\r\n",
        "validation_dogs_dir = os.path.join(validation_dir, 'dogs')  # directory with our validation dog pictures\r\n"
      ],
      "execution_count": null,
      "outputs": []
    },
    {
      "cell_type": "code",
      "metadata": {
        "id": "BnFW33X3z2sV"
      },
      "source": [
        "# understanding the data: find out how many images in training/validation directory\r\n",
        "num_cats_tr = len(os.listdir(train_cats_dir))\r\n",
        "num_dogs_tr = len(os.listdir(train_dogs_dir))\r\n",
        "\r\n",
        "num_cats_val = len(os.listdir(validation_cats_dir))\r\n",
        "num_dogs_val = len(os.listdir(validation_dogs_dir))\r\n",
        "\r\n",
        "total_train = num_cats_tr + num_dogs_tr\r\n",
        "total_val = num_cats_val + num_dogs_val\r\n",
        "\r\n",
        "print('total training cat images:', num_cats_tr)\r\n",
        "print('total training dog images:', num_dogs_tr)\r\n",
        "\r\n",
        "print('total validation cat images:', num_cats_val)\r\n",
        "print('total validation dog images:', num_dogs_val)\r\n",
        "print(\"--\")\r\n",
        "print(\"Total training images:\", total_train)\r\n",
        "print(\"Total validation images:\", total_val)"
      ],
      "execution_count": null,
      "outputs": []
    },
    {
      "cell_type": "code",
      "metadata": {
        "id": "KoxVnrwb0hbK"
      },
      "source": [
        "# set model parameters\r\n",
        "BATCH_SIZE = 100\r\n",
        "IMG_SHAPE = 150"
      ],
      "execution_count": null,
      "outputs": []
    },
    {
      "cell_type": "markdown",
      "metadata": {
        "id": "KxViVbZv0m_y"
      },
      "source": [
        "Let's do some data preparation! In order to feed them images into the network, they need to be formatted into appropriately pre-processed floating point tensors. We can use the **tf.keras.preprocessing.image.ImageDataGenerator** to do this.\r\n",
        "\r\n",
        "\r\n",
        "1.   Read images from disk\r\n",
        "2.   Decode the image contents and convert them into proper grid format (RGB)\r\n",
        "3.   Convert them into floating point tensors\r\n",
        "4.   Rescale the 0-255 values to 0-1\r\n",
        "\r\n"
      ]
    },
    {
      "cell_type": "code",
      "metadata": {
        "id": "1JWZVO2O1Bu2"
      },
      "source": [
        "train_image_generator = ImageDataGenerator(rescale=1./255)\r\n",
        "validation_image_generator = ImageDataGenerator(rescale=1./255)"
      ],
      "execution_count": null,
      "outputs": []
    },
    {
      "cell_type": "code",
      "metadata": {
        "id": "gSMSR1hR1Kbv"
      },
      "source": [
        "# use the flow_from_directory method to load images from the disk, apply rescaling, and resize them\r\n",
        "\r\n",
        "train_data_gen = train_image_generator.flow_from_directory(batch_size=BATCH_SIZE,\r\n",
        "                                                           directory=train_dir,\r\n",
        "                                                           shuffle=True,\r\n",
        "                                                           target_size=(IMG_SHAPE, IMG_SHAPE), #150,150\r\n",
        "                                                           class_mode='binary')\r\n",
        "val_data_gen = validation_image_generator.flow_from_directory(batch_size=BATCH_SIZE,\r\n",
        "                                                              directory=validation_dir,\r\n",
        "                                                              shuffle=False,\r\n",
        "                                                              target_size=(IMG_SHAPE,IMG_SHAPE), #(150,150)\r\n",
        "                                                              class_mode='binary')"
      ],
      "execution_count": null,
      "outputs": []
    },
    {
      "cell_type": "code",
      "metadata": {
        "id": "jPInx-6J15RQ"
      },
      "source": [
        "# visualize the training images\r\n",
        "# the next function returns a batch from the dataset\r\n",
        "sample_training_images, _ = next(train_data_gen)"
      ],
      "execution_count": null,
      "outputs": []
    },
    {
      "cell_type": "code",
      "metadata": {
        "id": "S2FXQ3WI2Lfc"
      },
      "source": [
        "# plots images in the form of a grid with 1 row and 5 columns\r\n",
        "def plotImages(images_arr):\r\n",
        "    fig, axes = plt.subplots(1, 5, figsize=(20,20))\r\n",
        "    axes = axes.flatten()\r\n",
        "    for img, ax in zip(images_arr, axes):\r\n",
        "        ax.imshow(img)\r\n",
        "    plt.tight_layout()\r\n",
        "    plt.show()\r\n",
        "\r\n",
        "plotImages(sample_training_images[:5])  # Plot images 0-4"
      ],
      "execution_count": null,
      "outputs": []
    },
    {
      "cell_type": "markdown",
      "metadata": {
        "id": "KLBUh3kk2lzv"
      },
      "source": [
        "**Model Creation**\r\n",
        "\r\n",
        "\r\n",
        "Define the model\r\n",
        "\r\n",
        "1.   Consists of 4 convolution blocks with a max pool layer in each of them\r\n",
        "2.   Fully connected layer with 512 units with a relu activation function\r\n",
        "3.   Outputs class probabilities for dogs and cats using `softmax`\r\n",
        "\r\n",
        "\r\n",
        "Compile the model\r\n",
        "1.   Optimize the model using adam\r\n",
        "2.   Input a loss function\r\n",
        "3.   Use accuracy as metrics argument\r\n",
        "4.   Train the model using fit_generator\r\n"
      ]
    },
    {
      "cell_type": "code",
      "metadata": {
        "id": "dzRelA3d3WAf"
      },
      "source": [
        "# define the model\r\n",
        "model = tf.keras.models.Sequential([\r\n",
        "    tf.keras.layers.Conv2D(32, (3,3), activation='relu', input_shape=(150,150,3)),\r\n",
        "    tf.keras.layers.MaxPooling2D(2,2),\r\n",
        "\r\n",
        "    tf.keras.layers.Conv2D(64, (3,3), activation='relu'),\r\n",
        "    tf.keras.layers.MaxPooling2D(2,2),\r\n",
        "\r\n",
        "    tf.keras.layers.Conv2D(128, (3,3), activation='relu'),\r\n",
        "    tf.keras.layers.MaxPooling2D(2,2),\r\n",
        "\r\n",
        "    tf.keras.layers.Conv2D(128, (3,3), activation='relu'),\r\n",
        "    tf.keras.layers.MaxPooling2D(2,2),\r\n",
        "\r\n",
        "    tf.keras.layers.Flatten(),\r\n",
        "    tf.keras.layers.Dense(512, activation='relu'),\r\n",
        "    tf.keras.layers.Dense(2)\r\n",
        "\r\n",
        "])"
      ],
      "execution_count": null,
      "outputs": []
    },
    {
      "cell_type": "code",
      "metadata": {
        "id": "yLP28E0d3Vwi"
      },
      "source": [
        "# compile the model\r\n",
        "model.compile(optimizer='adam',\r\n",
        "              loss=tf.keras.losses.SparseCategoricalCrossentropy(from_logits=True),\r\n",
        "              metrics=['accuracy'])"
      ],
      "execution_count": null,
      "outputs": []
    },
    {
      "cell_type": "code",
      "metadata": {
        "id": "YskXviGa5X7S"
      },
      "source": [
        "model.summary()"
      ],
      "execution_count": null,
      "outputs": []
    },
    {
      "cell_type": "code",
      "metadata": {
        "id": "-3Yuaawl5mdJ"
      },
      "source": [
        "# train the network\r\n",
        "EPOCHS = 100\r\n",
        "history = model.fit_generator(\r\n",
        "    train_data_gen,\r\n",
        "    steps_per_epoch=int(np.ceil(total_train / float(BATCH_SIZE))),\r\n",
        "    epochs=EPOCHS,\r\n",
        "    validation_data=val_data_gen,\r\n",
        "    validation_steps=int(np.ceil(total_val / float(BATCH_SIZE)))\r\n",
        ")"
      ],
      "execution_count": null,
      "outputs": []
    },
    {
      "cell_type": "code",
      "metadata": {
        "id": "J339CyGk564i"
      },
      "source": [
        "# visualize results\r\n",
        "acc = history.history['accuracy']\r\n",
        "val_acc = history.history['val_accuracy']\r\n",
        "\r\n",
        "loss = history.history['loss']\r\n",
        "val_loss = history.history['val_loss']\r\n",
        "\r\n",
        "epochs_range = range(EPOCHS)\r\n",
        "\r\n",
        "plt.figure(figsize=(8, 8))\r\n",
        "plt.subplot(1, 2, 1)\r\n",
        "plt.plot(epochs_range, acc, label='Training Accuracy')\r\n",
        "plt.plot(epochs_range, val_acc, label='Validation Accuracy')\r\n",
        "plt.legend(loc='lower right')\r\n",
        "plt.title('Training and Validation Accuracy')\r\n",
        "\r\n",
        "plt.subplot(1, 2, 2)\r\n",
        "plt.plot(epochs_range, loss, label='Training Loss')\r\n",
        "plt.plot(epochs_range, val_loss, label='Validation Loss')\r\n",
        "plt.legend(loc='upper right')\r\n",
        "plt.title('Training and Validation Loss')\r\n",
        "plt.savefig('./foo.png')\r\n",
        "plt.show()"
      ],
      "execution_count": null,
      "outputs": []
    },
    {
      "cell_type": "markdown",
      "metadata": {
        "id": "TuvlALAp6EzQ"
      },
      "source": [
        "Some signs of overfitting to the training set include training and validation accuracy values that are off by a large margin."
      ]
    }
  ]
}