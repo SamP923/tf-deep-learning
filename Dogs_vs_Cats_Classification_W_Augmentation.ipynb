{
  "nbformat": 4,
  "nbformat_minor": 0,
  "metadata": {
    "colab": {
      "name": "Dogs_vs_Cats_Classification_W_Augmentation.ipynb",
      "private_outputs": true,
      "provenance": []
    },
    "kernelspec": {
      "name": "python3",
      "display_name": "Python 3"
    }
  },
  "cells": [
    {
      "cell_type": "markdown",
      "metadata": {
        "id": "VAQn8ChLpdpr"
      },
      "source": [
        "# Dogs vs Cats Image Classification With Image Augmentation\r\n",
        "**Purpose**:  \r\n",
        "Build a neural network to classify images into pictures of cats or pictures of dogs.\r\n",
        "\r\n",
        "Dataset Used: [filtered version of Dogs vs. Cats dataset from Kaggle](https://www.kaggle.com/c/dogs-vs-cats/data)\r\n",
        "\r\n",
        "\r\n",
        "Project based on [TensorFlow's classification example](https://colab.research.google.com/github/tensorflow/examples/blob/master/courses/udacity_intro_to_tensorflow_for_deep_learning/l05c02_dogs_vs_cats_with_augmentation.ipynb)"
      ]
    },
    {
      "cell_type": "code",
      "metadata": {
        "id": "a7u3uDuApQLO"
      },
      "source": [
        "import tensorflow as tf\r\n",
        "from tensorflow.keras.preprocessing.image import ImageDataGenerator\r\n",
        "\r\n",
        "import os\r\n",
        "import numpy as np\r\n",
        "import matplotlib.pyplot as plt"
      ],
      "execution_count": null,
      "outputs": []
    },
    {
      "cell_type": "code",
      "metadata": {
        "id": "mpcnbCZjqhX5"
      },
      "source": [
        "# download the dataset\r\n",
        "_URL = 'https://storage.googleapis.com/mledu-datasets/cats_and_dogs_filtered.zip'\r\n",
        "\r\n",
        "zip_dir = tf.keras.utils.get_file('cats_and_dogs_filterted.zip', origin=_URL, extract=True)"
      ],
      "execution_count": null,
      "outputs": []
    },
    {
      "cell_type": "markdown",
      "metadata": {
        "id": "UVkUHtwiqq67"
      },
      "source": [
        "The dataset we have downloaded has the following directory structure.\r\n",
        "<pre style=\"font-size: 10.0pt; font-family: Arial; line-height: 2; letter-spacing: 1.0pt;\" >\r\n",
        "<b>cats_and_dogs_filtered</b>\r\n",
        "|__ <b>train</b>\r\n",
        "    |______ <b>cats</b>: [cat.0.jpg, cat.1.jpg, cat.2.jpg ....]\r\n",
        "    |______ <b>dogs</b>: [dog.0.jpg, dog.1.jpg, dog.2.jpg ...]\r\n",
        "|__ <b>validation</b>\r\n",
        "    |______ <b>cats</b>: [cat.2000.jpg, cat.2001.jpg, cat.2002.jpg ....]\r\n",
        "    |______ <b>dogs</b>: [dog.2000.jpg, dog.2001.jpg, dog.2002.jpg ...]\r\n",
        "</pre>"
      ]
    },
    {
      "cell_type": "code",
      "metadata": {
        "id": "hRb9tWDYqrPV"
      },
      "source": [
        "# assign variables with the proper file path for training/validation sets\r\n",
        "base_dir = os.path.join(os.path.dirname(zip_dir), 'cats_and_dogs_filtered')\r\n",
        "train_dir = os.path.join(base_dir, 'train')\r\n",
        "validation_dir = os.path.join(base_dir, 'validation')"
      ],
      "execution_count": null,
      "outputs": []
    },
    {
      "cell_type": "code",
      "metadata": {
        "id": "ledhVDCTqvkD"
      },
      "source": [
        "train_cats_dir = os.path.join(train_dir, 'cats')  # directory with our training cat pictures\r\n",
        "train_dogs_dir = os.path.join(train_dir, 'dogs')  # directory with our training dog pictures\r\n",
        "validation_cats_dir = os.path.join(validation_dir, 'cats')  # directory with our validation cat pictures\r\n",
        "validation_dogs_dir = os.path.join(validation_dir, 'dogs')  # directory with our validation dog pictures"
      ],
      "execution_count": null,
      "outputs": []
    },
    {
      "cell_type": "code",
      "metadata": {
        "id": "rMI8vFSfqx-N"
      },
      "source": [
        "# understanding the data: find out how many images in training/validation directory\r\n",
        "num_cats_tr = len(os.listdir(train_cats_dir))\r\n",
        "num_dogs_tr = len(os.listdir(train_dogs_dir))\r\n",
        "\r\n",
        "num_cats_val = len(os.listdir(validation_cats_dir))\r\n",
        "num_dogs_val = len(os.listdir(validation_dogs_dir))\r\n",
        "\r\n",
        "total_train = num_cats_tr + num_dogs_tr\r\n",
        "total_val = num_cats_val + num_dogs_val\r\n",
        "\r\n",
        "print('total training cat images:', num_cats_tr)\r\n",
        "print('total training dog images:', num_dogs_tr)\r\n",
        "\r\n",
        "print('total validation cat images:', num_cats_val)\r\n",
        "print('total validation dog images:', num_dogs_val)\r\n",
        "print(\"--\")\r\n",
        "print(\"Total training images:\", total_train)\r\n",
        "print(\"Total validation images:\", total_val)"
      ],
      "execution_count": null,
      "outputs": []
    },
    {
      "cell_type": "code",
      "metadata": {
        "id": "u9m6UAG_rgqa"
      },
      "source": [
        "# set model parameters\r\n",
        "BATCH_SIZE = 100\r\n",
        "IMG_SHAPE = 150"
      ],
      "execution_count": null,
      "outputs": []
    },
    {
      "cell_type": "markdown",
      "metadata": {
        "id": "c8XDPtdfrh_B"
      },
      "source": [
        "**Data Augmentation**  \r\n",
        "To prevent overfitting, we can augment our dataset to generate more training data from existing training samples."
      ]
    },
    {
      "cell_type": "code",
      "metadata": {
        "id": "O47oIAAzrkTk"
      },
      "source": [
        "# plots images in the form of a grid with 1 row and 5 columns\r\n",
        "def plotImages(images_arr):\r\n",
        "    fig, axes = plt.subplots(1, 5, figsize=(20,20))\r\n",
        "    axes = axes.flatten()\r\n",
        "    for img, ax in zip(images_arr, axes):\r\n",
        "        ax.imshow(img)\r\n",
        "    plt.tight_layout()\r\n",
        "    plt.show()"
      ],
      "execution_count": null,
      "outputs": []
    },
    {
      "cell_type": "code",
      "metadata": {
        "id": "gdyuaJwbsN5r"
      },
      "source": [
        "# apply horizontal flip using horizontal_flip=True in the ImageDataGenerator\r\n",
        "image_gen = ImageDataGenerator(rescale=1./255, horizontal_flip=True)\r\n",
        "\r\n",
        "train_data_gen = image_gen.flow_from_directory(batch_size=BATCH_SIZE,\r\n",
        "                                               directory=train_dir,\r\n",
        "                                               shuffle=True,\r\n",
        "                                               target_size=(IMG_SHAPE,IMG_SHAPE))"
      ],
      "execution_count": null,
      "outputs": []
    },
    {
      "cell_type": "code",
      "metadata": {
        "id": "drhKjk-nslTp"
      },
      "source": [
        "augmented_images = [train_data_gen[0][0][0] for i in range(5)]\r\n",
        "plotImages(augmented_images)"
      ],
      "execution_count": null,
      "outputs": []
    },
    {
      "cell_type": "code",
      "metadata": {
        "id": "oanlA0GFsuAR"
      },
      "source": [
        "# apply rotation \r\n",
        "image_gen = ImageDataGenerator(rescale=1./255, rotation_range=45)\r\n",
        "\r\n",
        "train_data_gen = image_gen.flow_from_directory(batch_size=BATCH_SIZE,\r\n",
        "                                               directory=train_dir,\r\n",
        "                                               shuffle=True,\r\n",
        "                                               target_size=(IMG_SHAPE, IMG_SHAPE))"
      ],
      "execution_count": null,
      "outputs": []
    },
    {
      "cell_type": "code",
      "metadata": {
        "id": "iyPxXKt-tHCx"
      },
      "source": [
        "augmented_images = [train_data_gen[0][0][0] for i in range(5)]\r\n",
        "plotImages(augmented_images)"
      ],
      "execution_count": null,
      "outputs": []
    },
    {
      "cell_type": "code",
      "metadata": {
        "id": "cnj4j7F_tZM7"
      },
      "source": [
        "# apply zoom\r\n",
        "# apply rotation \r\n",
        "image_gen = ImageDataGenerator(rescale=1./255, zoom_range=0.5)\r\n",
        "\r\n",
        "train_data_gen = image_gen.flow_from_directory(batch_size=BATCH_SIZE,\r\n",
        "                                               directory=train_dir,\r\n",
        "                                               shuffle=True,\r\n",
        "                                               target_size=(IMG_SHAPE, IMG_SHAPE))"
      ],
      "execution_count": null,
      "outputs": []
    },
    {
      "cell_type": "code",
      "metadata": {
        "id": "RfNy834uteFD"
      },
      "source": [
        "augmented_images = [train_data_gen[0][0][0] for i in range(5)]\r\n",
        "plotImages(augmented_images)"
      ],
      "execution_count": null,
      "outputs": []
    },
    {
      "cell_type": "code",
      "metadata": {
        "id": "2P0WGFCatlIV"
      },
      "source": [
        "# ALL AUGMENTATIONS\r\n",
        "image_gen_train = ImageDataGenerator(\r\n",
        "      rescale=1./255,\r\n",
        "      rotation_range=40,\r\n",
        "      width_shift_range=0.2,\r\n",
        "      height_shift_range=0.2,\r\n",
        "      shear_range=0.2,\r\n",
        "      zoom_range=0.2,\r\n",
        "      horizontal_flip=True,\r\n",
        "      fill_mode='nearest')\r\n",
        "\r\n",
        "train_data_gen = image_gen_train.flow_from_directory(batch_size=BATCH_SIZE,\r\n",
        "                                                     directory=train_dir,\r\n",
        "                                                     shuffle=True,\r\n",
        "                                                     target_size=(IMG_SHAPE,IMG_SHAPE),\r\n",
        "                                                     class_mode='binary')"
      ],
      "execution_count": null,
      "outputs": []
    },
    {
      "cell_type": "code",
      "metadata": {
        "id": "ALS-hzWKtpYU"
      },
      "source": [
        "augmented_images = [train_data_gen[0][0][0] for i in range(5)]\r\n",
        "plotImages(augmented_images)"
      ],
      "execution_count": null,
      "outputs": []
    },
    {
      "cell_type": "code",
      "metadata": {
        "id": "CeiabKqgtt9N"
      },
      "source": [
        "# create a validation data generator\r\n",
        "\r\n",
        "image_gen_val = ImageDataGenerator(rescale=1./255)\r\n",
        "\r\n",
        "val_data_gen = image_gen_val.flow_from_directory(batch_size=BATCH_SIZE,\r\n",
        "                                                 directory=validation_dir,\r\n",
        "                                                 target_size=(IMG_SHAPE, IMG_SHAPE),\r\n",
        "                                                 class_mode='binary')"
      ],
      "execution_count": null,
      "outputs": []
    },
    {
      "cell_type": "markdown",
      "metadata": {
        "id": "ajqj7qu0t2m0"
      },
      "source": [
        "**Create the Model**  \r\n",
        "\r\n",
        "1. Define the model (four convolution blocks with a max pool layer, relu activation, and a softmax layer)\r\n",
        "2. Compile the model (adam optimizer, softmax categorization)\r\n",
        "3. Train the model\r\n",
        "4. Visualize results"
      ]
    },
    {
      "cell_type": "code",
      "metadata": {
        "id": "9MQeGfv5t0tA"
      },
      "source": [
        "# define the model\r\n",
        "\r\n",
        "model = tf.keras.models.Sequential([\r\n",
        "    tf.keras.layers.Conv2D(32, (3,3), activation='relu', input_shape=(150,150,3)),\r\n",
        "    tf.keras.layers.MaxPooling2D(2,2),\r\n",
        "\r\n",
        "    tf.keras.layers.Conv2D(64, (3,3), activation='relu'),\r\n",
        "    tf.keras.layers.MaxPooling2D(2,2),\r\n",
        "\r\n",
        "    tf.keras.layers.Conv2D(128, (3,3), activation='relu'),\r\n",
        "    tf.keras.layers.MaxPooling2D(2,2),\r\n",
        "\r\n",
        "    tf.keras.layers.Conv2D(128,(3,3), activation='relu'),\r\n",
        "    tf.keras.layers.MaxPooling2D(2,2),\r\n",
        "\r\n",
        "    tf.keras.layers.Dropout(0.5),\r\n",
        "    tf.keras.layers.Flatten(),\r\n",
        "    tf.keras.layers.Dense(512, activation='relu'),\r\n",
        "    tf.keras.layers.Dense(2)\r\n",
        "\r\n",
        "])"
      ],
      "execution_count": null,
      "outputs": []
    },
    {
      "cell_type": "code",
      "metadata": {
        "id": "P1D4pixDu69g"
      },
      "source": [
        "# compile the model\r\n",
        "model.compile(optimizer='adam',\r\n",
        "              loss=tf.keras.losses.SparseCategoricalCrossentropy(from_logits=True),\r\n",
        "              metrics=['accuracy'])"
      ],
      "execution_count": null,
      "outputs": []
    },
    {
      "cell_type": "code",
      "metadata": {
        "id": "Ct3ZKRzGu9kd"
      },
      "source": [
        "model.summary()"
      ],
      "execution_count": null,
      "outputs": []
    },
    {
      "cell_type": "code",
      "metadata": {
        "id": "fdGnlDiNvSoP"
      },
      "source": [
        "# train the model\r\n",
        "\r\n",
        "EPOCHS = 100\r\n",
        "history = model.fit_generator(\r\n",
        "    train_data_gen,\r\n",
        "    steps_per_epoch = int(np.ceil(total_train / float(BATCH_SIZE))),\r\n",
        "    epochs=EPOCHS,\r\n",
        "    validation_data=val_data_gen,\r\n",
        "    validation_steps=int(np.ceil(total_val / float(BATCH_SIZE)))\r\n",
        ")"
      ],
      "execution_count": null,
      "outputs": []
    },
    {
      "cell_type": "code",
      "metadata": {
        "id": "cDIYSeMJvmli"
      },
      "source": [
        "acc = history.history['accuracy']\r\n",
        "val_acc = history.history['val_accuracy']\r\n",
        "\r\n",
        "loss = history.history['loss']\r\n",
        "val_loss = history.history['val_loss']\r\n",
        "\r\n",
        "epochs_range = range(epochs)\r\n",
        "\r\n",
        "plt.figure(figsize=(8, 8))\r\n",
        "plt.subplot(1, 2, 1)\r\n",
        "plt.plot(epochs_range, acc, label='Training Accuracy')\r\n",
        "plt.plot(epochs_range, val_acc, label='Validation Accuracy')\r\n",
        "plt.legend(loc='lower right')\r\n",
        "plt.title('Training and Validation Accuracy')\r\n",
        "\r\n",
        "plt.subplot(1, 2, 2)\r\n",
        "plt.plot(epochs_range, loss, label='Training Loss')\r\n",
        "plt.plot(epochs_range, val_loss, label='Validation Loss')\r\n",
        "plt.legend(loc='upper right')\r\n",
        "plt.title('Training and Validation Loss')\r\n",
        "plt.show()"
      ],
      "execution_count": null,
      "outputs": []
    }
  ]
}