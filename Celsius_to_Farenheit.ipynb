{
  "nbformat": 4,
  "nbformat_minor": 0,
  "metadata": {
    "colab": {
      "name": "Celsius_to_Farenheit.ipynb",
      "private_outputs": true,
      "provenance": [],
      "authorship_tag": "ABX9TyOKNo8ThN6fjLE8KBYelA6w",
      "include_colab_link": true
    },
    "kernelspec": {
      "name": "python3",
      "display_name": "Python 3"
    }
  },
  "cells": [
    {
      "cell_type": "markdown",
      "metadata": {
        "id": "view-in-github",
        "colab_type": "text"
      },
      "source": [
        "<a href=\"https://colab.research.google.com/github/SamP923/tf-deep-learning/blob/main/Celsius_to_Farenheit.ipynb\" target=\"_parent\"><img src=\"https://colab.research.google.com/assets/colab-badge.svg\" alt=\"Open In Colab\"/></a>"
      ]
    },
    {
      "cell_type": "markdown",
      "metadata": {
        "id": "eAoLrOFTeGO0"
      },
      "source": [
        "**Objective:**  \r\n",
        "Understand the basic concepts of training a machine learning model by having a model learn how to convert from Celsius to Farenheit.\r\n",
        "\r\n",
        "The approximate formula is:\r\n",
        "$$ f = c \\times 1.8 + 32 $$\r\n",
        "\r\n",
        "Dependencies:\r\n",
        "- TensorFlow\r\n",
        "- numpy\r\n",
        "- logging\r\n",
        "\r\n"
      ]
    },
    {
      "cell_type": "code",
      "metadata": {
        "id": "O0hb690KeCCw"
      },
      "source": [
        "# import dependencies\r\n",
        "\r\n",
        "import tensorflow as tf"
      ],
      "execution_count": null,
      "outputs": []
    },
    {
      "cell_type": "code",
      "metadata": {
        "id": "MJ-bT-m_euDa"
      },
      "source": [
        "import numpy as np\r\n",
        "import logging\r\n",
        "logger = tf.get_logger()\r\n",
        "logger.setLevel(logging.ERROR)"
      ],
      "execution_count": null,
      "outputs": []
    },
    {
      "cell_type": "markdown",
      "metadata": {
        "id": "069vtR9ihpDB"
      },
      "source": [
        "**Set up Training Data:**\r\n"
      ]
    },
    {
      "cell_type": "code",
      "metadata": {
        "id": "4BWkLhXihoiR"
      },
      "source": [
        "celsius_q   = np.array([-40, -10, 0, 8, 15, 22, 38], dtype=float)\r\n",
        "fahrenheit_a = np.array([-40, 14, 32, 46, 59, 72, 100], dtype=float)\r\n",
        "\r\n",
        "# display corresponding data\r\n",
        "for i,c in enumerate(celsius_q):\r\n",
        "  print(\"{} degrees Celsius = {} degrees Farenheit\".format(c, fahrenheit_a[i]))\r\n"
      ],
      "execution_count": null,
      "outputs": []
    },
    {
      "cell_type": "markdown",
      "metadata": {
        "id": "uyncscuii04J"
      },
      "source": [
        "**Create and Assemble the Model:**  \r\n",
        "Build a single layer called `l0` and create it by instantiating `tf.keras.layers.Dense`. Due to the simplicity of the problem, we only need a single layer with a single neuron.\r\n",
        "\r\n",
        "Inputs:  \r\n",
        "`input_shape=[1]` Specifies a single value input; one dimensional array with one member that represents the degrees value in Celsius  \r\n",
        "`units=1` Specifies the number of neurons in the layer, or how many internal variables the layer has to try to learn; single degrees value in Fahrenheit"
      ]
    },
    {
      "cell_type": "code",
      "metadata": {
        "id": "_OQqwlCvj61T"
      },
      "source": [
        "l0 = tf.keras.layers.Dense(units=1, input_shape=[1])"
      ],
      "execution_count": null,
      "outputs": []
    },
    {
      "cell_type": "code",
      "metadata": {
        "id": "8wRKlEX1kq0u"
      },
      "source": [
        "# Assemble the layers into a model\r\n",
        "model = tf.keras.Sequential([l0])"
      ],
      "execution_count": null,
      "outputs": []
    },
    {
      "cell_type": "code",
      "metadata": {
        "id": "Dg6Uu5ZqkxoY"
      },
      "source": [
        "# Compile the model with loss and optimizer functions\r\n",
        "model.compile(loss='mean_squared_error',\r\n",
        "              optimizer=tf.keras.optimizers.Adam(0.1))"
      ],
      "execution_count": null,
      "outputs": []
    },
    {
      "cell_type": "markdown",
      "metadata": {
        "id": "ZbvzrJTkjRDH"
      },
      "source": [
        "**Train the Model**\r\n",
        "\r\n",
        "Train the model by calling the `fit` method. \r\n",
        "\r\n"
      ]
    },
    {
      "cell_type": "code",
      "metadata": {
        "id": "Pvw_Ixigk5EB"
      },
      "source": [
        "history = model.fit(celsius_q, fahrenheit_a, epochs=1000, verbose=False)\r\n",
        "print(\"Finished training the model\")"
      ],
      "execution_count": null,
      "outputs": []
    },
    {
      "cell_type": "markdown",
      "metadata": {
        "id": "KLj8cPvzIJ14"
      },
      "source": [
        "Use Matplotlib to visualize the loss of the model after each training epoch."
      ]
    },
    {
      "cell_type": "code",
      "metadata": {
        "id": "SjIuqKNKmP4s"
      },
      "source": [
        "import matplotlib.pyplot as plt\r\n",
        "plt.xlabel('Epoch Number')\r\n",
        "plt.ylabel(\"Loss Magnitude\")\r\n",
        "plt.plot(history.history['loss'])"
      ],
      "execution_count": null,
      "outputs": []
    },
    {
      "cell_type": "code",
      "metadata": {
        "id": "WqWqS9iomZC1"
      },
      "source": [
        "print(model.predict([100.0]))"
      ],
      "execution_count": null,
      "outputs": []
    },
    {
      "cell_type": "code",
      "metadata": {
        "id": "WNyfcdTTmcwX"
      },
      "source": [
        "print(\"These are the layer variables: {}\".format(l0.get_weights()))"
      ],
      "execution_count": null,
      "outputs": []
    }
  ]
}