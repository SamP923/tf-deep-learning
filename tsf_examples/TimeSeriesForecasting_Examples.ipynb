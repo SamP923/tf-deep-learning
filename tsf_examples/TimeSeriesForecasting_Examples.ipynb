{
  "nbformat": 4,
  "nbformat_minor": 0,
  "metadata": {
    "colab": {
      "name": "TimeSeriesForecasting_Examples.ipynb",
      "private_outputs": true,
      "provenance": []
    },
    "kernelspec": {
      "name": "python3",
      "display_name": "Python 3"
    }
  },
  "cells": [
    {
      "cell_type": "markdown",
      "metadata": {
        "id": "DVlE_V1I30PK"
      },
      "source": [
        "# Introduction"
      ]
    },
    {
      "cell_type": "markdown",
      "metadata": {
        "id": "NOMGUAeh2RXC"
      },
      "source": [
        "This notebook contains examples for Time Series Forecasting, and includes: \r\n",
        "1. Common Patterns\r\n",
        "2. Naive Forecasting\r\n",
        "3. Moving Average\r\n",
        "4. Time Windows\r\n"
      ]
    },
    {
      "cell_type": "markdown",
      "metadata": {
        "id": "ewY0sliK2SQs"
      },
      "source": [
        "# Common Patterns\r\n",
        "Based on [TF Examples](https://colab.research.google.com/github/tensorflow/examples/blob/master/courses/udacity_intro_to_tensorflow_for_deep_learning/l08c01_common_patterns.ipynb)"
      ]
    },
    {
      "cell_type": "code",
      "metadata": {
        "id": "Xd4zdrMr2ZLr"
      },
      "source": [
        "# setup\r\n",
        "import numpy as np\r\n",
        "import matplotlib.pyplot as plt\r\n",
        "\r\n",
        "def plot_series(time, series, format=\"-\", start=0, end=None, label=None):\r\n",
        "    plt.plot(time[start:end], series[start:end], format, label=label)\r\n",
        "    plt.xlabel(\"Time\")\r\n",
        "    plt.ylabel(\"Value\")\r\n",
        "    if label:\r\n",
        "        plt.legend(fontsize=14)\r\n",
        "    plt.grid(True)"
      ],
      "execution_count": null,
      "outputs": []
    },
    {
      "cell_type": "code",
      "metadata": {
        "id": "h87h5Upn2ZUu"
      },
      "source": [
        "# trend and seasonality\r\n",
        "def trend(time, slope=0):\r\n",
        "  return slope * time"
      ],
      "execution_count": null,
      "outputs": []
    },
    {
      "cell_type": "code",
      "metadata": {
        "id": "10FHX5Zf2h0r"
      },
      "source": [
        "# example of time series that just trends upwards\r\n",
        "time = np.arange(4 * 265 + 1)\r\n",
        "baseline = 10\r\n",
        "series = baseline = trend(time, 0.1)\r\n",
        "\r\n",
        "plt.figure(figsize=(10,6))\r\n",
        "plot_series(time, series)\r\n",
        "plt.show()"
      ],
      "execution_count": null,
      "outputs": []
    },
    {
      "cell_type": "code",
      "metadata": {
        "id": "lX4vzBdP2fsc"
      },
      "source": [
        "time\r\n",
        "series"
      ],
      "execution_count": null,
      "outputs": []
    },
    {
      "cell_type": "code",
      "metadata": {
        "id": "X6wI90Wr2whw"
      },
      "source": [
        "# generate a time series with a seasonal pattern\r\n",
        "\r\n",
        "def seasonal_pattern(season_time):\r\n",
        "  # arbitrary pattern\r\n",
        "  return np.where(season_time < 0.6,\r\n",
        "                  np.cos(season_time * 2 * np.pi),\r\n",
        "                  1 / np.exp (3 * season_time))\r\n",
        "  \r\n",
        "def seasonality(time, period, amplitude=1, phase=0):\r\n",
        "  # repeats the same pattern at each period\r\n",
        "  season_time = ((time + phase) & period ) / period\r\n",
        "  return amplitude * seasonal_pattern(season_time)"
      ],
      "execution_count": null,
      "outputs": []
    },
    {
      "cell_type": "code",
      "metadata": {
        "id": "M3ZLYDR53DM1"
      },
      "source": [
        "amplitude = 40\r\n",
        "series = seasonality(time, period=365, amplitude = amplitude)\r\n",
        "\r\n",
        "plt.figure(figsize=(10,6))\r\n",
        "plot_series(time, series)\r\n",
        "plt.show()"
      ],
      "execution_count": null,
      "outputs": []
    },
    {
      "cell_type": "code",
      "metadata": {
        "id": "OK5_0Fsh3L-z"
      },
      "source": [
        "# creating a time series with both trend and seasonlity\r\n",
        "slope = 0.05\r\n",
        "series = baseline + trend(time, slope) + seasonality(time, period=365, amplitude=amplitude)\r\n",
        "\r\n",
        "plt.figure(figsize=(10,6))\r\n",
        "plot_series(time, series)\r\n",
        "plt.show()"
      ],
      "execution_count": null,
      "outputs": []
    },
    {
      "cell_type": "markdown",
      "metadata": {
        "id": "EXp6mcqM3XzA"
      },
      "source": [
        "Generate white noise, as in practice, few real-life time series have some noise"
      ]
    },
    {
      "cell_type": "code",
      "metadata": {
        "id": "tyXHb9Y23ezf"
      },
      "source": [
        "def white_noise(time, noise_level=1, seed=None):\r\n",
        "  rnd = np.random.RandomState(seed)\r\n",
        "  return rnd.randn(len(time)) * noise_level"
      ],
      "execution_count": null,
      "outputs": []
    },
    {
      "cell_type": "code",
      "metadata": {
        "id": "fkExO5RM3lc8"
      },
      "source": [
        "noise_level = 5\r\n",
        "noise = white_noise(time, noise_level, seed=42)\r\n",
        "\r\n",
        "plt.figure(figsize=(10,6))\r\n",
        "plot_series(time, noise)\r\n",
        "plt.show()"
      ],
      "execution_count": null,
      "outputs": []
    },
    {
      "cell_type": "code",
      "metadata": {
        "id": "mWi8ju9w3sN1"
      },
      "source": [
        "# adding white noise to the time series\r\n",
        "series += noise\r\n",
        "plt.figure(figsize=(10,6))\r\n",
        "plot_series(time, series)\r\n",
        "plt.show()"
      ],
      "execution_count": null,
      "outputs": []
    },
    {
      "cell_type": "markdown",
      "metadata": {
        "id": "iK_9wazv3yro"
      },
      "source": [
        "# Naive Forecasting"
      ]
    },
    {
      "cell_type": "code",
      "metadata": {
        "id": "r6AObVca5ZU4"
      },
      "source": [
        "# uses functions `plot_series`, `trend`, `seasonal_pattern`, `seasonality`,\r\n",
        "# and `white_noise` from above\r\n",
        "\r\n",
        "# new values\r\n",
        "time = np.arange(4 * 365 + 1)\r\n",
        "slope = 0.05\r\n",
        "baseline = 10\r\n",
        "amplitude = 40\r\n",
        "series = baseline + trend(time, slope) + seasonality(time, period=365, amplitude=amplitude)\r\n",
        "\r\n",
        "noise_level = 5\r\n",
        "noise = white_noise(time, noise_level, seed=42)\r\n",
        "\r\n",
        "series += noise\r\n",
        "\r\n",
        "plt.figure(figsize=(10,6))\r\n",
        "plot_series(time, series)\r\n",
        "plt.show()\r\n"
      ],
      "execution_count": null,
      "outputs": []
    },
    {
      "cell_type": "code",
      "metadata": {
        "id": "mJnjPgXC6Bl3"
      },
      "source": [
        "# split the graph into the training and validation periods\r\n",
        "split_time = 1000\r\n",
        "time_train = time[:split_time]\r\n",
        "x_train = series[:split_time]\r\n",
        "time_valid = time[split_time:]\r\n",
        "x_valid = series[split_time:]"
      ],
      "execution_count": null,
      "outputs": []
    },
    {
      "cell_type": "code",
      "metadata": {
        "id": "kTeOeM346QOH"
      },
      "source": [
        "naive_forecast = series[split_time - 1:-1]"
      ],
      "execution_count": null,
      "outputs": []
    },
    {
      "cell_type": "code",
      "metadata": {
        "id": "n7srYV2z6Tkq"
      },
      "source": [
        "plt.figure(figsize=(10,6))\r\n",
        "plot_series(time_valid, x_valid, label=\"Series\")\r\n",
        "plot_series(time_valid, naive_forecast, label=\"Forecast\")"
      ],
      "execution_count": null,
      "outputs": []
    },
    {
      "cell_type": "code",
      "metadata": {
        "id": "0-hIDsnY6aY8"
      },
      "source": [
        "# zoom in on where the validation period starts\r\n",
        "plt.figure(figsize=(10, 6))\r\n",
        "plot_series(time_valid, x_valid, start=0, end=150, label=\"Series\")\r\n",
        "plot_series(time_valid, naive_forecast, start=1, end=151, label=\"Forecast\")"
      ],
      "execution_count": null,
      "outputs": []
    },
    {
      "cell_type": "code",
      "metadata": {
        "id": "i3JVaqtX6kfd"
      },
      "source": [
        "# compute the mean absolute error between the forecasts and the predictions\r\n",
        "# in the validation period\r\n",
        "\r\n",
        "# represents baseline model\r\n",
        "errors = naive_forecast - x_valid\r\n",
        "abs_errors = np.abs(errors)\r\n",
        "mae = abs_errors.mean()\r\n",
        "mae"
      ],
      "execution_count": null,
      "outputs": []
    },
    {
      "cell_type": "markdown",
      "metadata": {
        "id": "DOwUcw8I8pAG"
      },
      "source": [
        "# Moving Average\r\n",
        "Based on [TF Example](https://colab.research.google.com/github/tensorflow/examples/blob/master/courses/udacity_intro_to_tensorflow_for_deep_learning/l08c03_moving_average.ipynb)"
      ]
    },
    {
      "cell_type": "code",
      "metadata": {
        "id": "jJZWDVaF8uBX"
      },
      "source": [
        "import tensorflow as tf\r\n",
        "keras = tf.keras"
      ],
      "execution_count": null,
      "outputs": []
    },
    {
      "cell_type": "code",
      "metadata": {
        "id": "ll88YofX7bpa"
      },
      "source": [
        "keras.metrics.mean_absolute_error(x_valid, naive_forecast).numpy()"
      ],
      "execution_count": null,
      "outputs": []
    },
    {
      "cell_type": "code",
      "metadata": {
        "id": "6V2NAxDq8yyT"
      },
      "source": [
        "# uses functions `plot_series`, `trend`, `seasonal_pattern`, `seasonality`,\r\n",
        "# and `white_noise` from above\r\n",
        "# basically uses the whole naive forecasting section"
      ],
      "execution_count": null,
      "outputs": []
    },
    {
      "cell_type": "code",
      "metadata": {
        "id": "m-8QjWk38_YD"
      },
      "source": [
        "def moving_average_forecast(series, window_size):\r\n",
        "  # forecasts the mean of the last few values\r\n",
        "  # if window_size=1, then this is equiv to naive forecast\r\n",
        "  forecast = []\r\n",
        "  for time in range(len(series) - window_size):\r\n",
        "    forecast.append(series[time:time + window_size].mean())\r\n",
        "  return np.array(forecast)"
      ],
      "execution_count": null,
      "outputs": []
    },
    {
      "cell_type": "code",
      "metadata": {
        "id": "pWxIuY_q9STe"
      },
      "source": [
        "def moving_average_forecast(series, window_size):\r\n",
        "  # Forecasts the mean of the last few values.\r\n",
        "  # If window_size=1, then this is equivalent to naive forecast\r\n",
        "  # This implementation is *much* faster than the previous one (about 300x)\r\n",
        "  mov = np.cumsum(series)\r\n",
        "  mov[window_size:] = mov[window_size:] - mov[:-window_size]\r\n",
        "  return mov[window_size - 1:-1] / window_size"
      ],
      "execution_count": null,
      "outputs": []
    },
    {
      "cell_type": "code",
      "metadata": {
        "id": "nHFX6pSg9bCe"
      },
      "source": [
        "moving_avg = moving_average_forecast(series, 30)[split_time - 30:]\r\n",
        "\r\n",
        "plt.figure(figsize=(10,6))\r\n",
        "plot_series(time_valid, x_valid, label=\"Series\")\r\n",
        "plot_series(time_valid, moving_avg, label=\"Moving average (30 days)\")"
      ],
      "execution_count": null,
      "outputs": []
    },
    {
      "cell_type": "code",
      "metadata": {
        "id": "wYtixf529lwm"
      },
      "source": [
        "keras.metrics.mean_absolute_error(x_valid, moving_avg).numpy()"
      ],
      "execution_count": null,
      "outputs": []
    },
    {
      "cell_type": "markdown",
      "metadata": {
        "id": "xnF-q1yi9vk-"
      },
      "source": [
        "This is worse than naive forecasting! It doesn't anticipate trend or seasonlity. When there's a lot of change, this model does not do well (delay).  \r\n",
        "\r\n",
        "Let's try to remove the trends and seasonlity through differencing (t - 365)."
      ]
    },
    {
      "cell_type": "code",
      "metadata": {
        "id": "uubleSg39vBW"
      },
      "source": [
        "diff_series = (series[365:] - series[:-365])\r\n",
        "diff_time = time[365:]\r\n",
        "\r\n",
        "plt.figure(figsize=(10,6))\r\n",
        "plot_series(diff_time, diff_series, label=\"Series(t) - Series(t-365\")\r\n",
        "plt.show()"
      ],
      "execution_count": null,
      "outputs": []
    },
    {
      "cell_type": "code",
      "metadata": {
        "id": "jqblMD-w-SY5"
      },
      "source": [
        "# zoom on validation period\r\n",
        "plt.figure(figsize=(10,6))\r\n",
        "plot_series(time_valid, diff_series[split_time - 365:], label=\"Series(t) - Series(t-365)\")\r\n",
        "plt.show()"
      ],
      "execution_count": null,
      "outputs": []
    },
    {
      "cell_type": "code",
      "metadata": {
        "id": "0HGKKaBI-hS1"
      },
      "source": [
        "# use the moving average and plot\r\n",
        "diff_moving_avg = moving_average_forecast(diff_series, 50)[split_time - 365 - 50:]\r\n",
        "\r\n",
        "plt.figure(figsize=(10, 6))\r\n",
        "plot_series(time_valid, diff_series[split_time - 365:], label=\"Series(t) – Series(t–365)\")\r\n",
        "plot_series(time_valid, diff_moving_avg, label=\"Moving Average of Diff\")\r\n",
        "plt.show()"
      ],
      "execution_count": null,
      "outputs": []
    },
    {
      "cell_type": "code",
      "metadata": {
        "id": "EEy7E68I-nk9"
      },
      "source": [
        "# bring trend and seasonality back by adding the past values from t - 365\r\n",
        "diff_moving_avg_plus_past = series[split_time - 365:-365] + diff_moving_avg\r\n",
        "\r\n",
        "plt.figure(figsize=(10, 6))\r\n",
        "plot_series(time_valid, x_valid, label=\"Series\")\r\n",
        "plot_series(time_valid, diff_moving_avg_plus_past, label=\"Forecasts\")\r\n",
        "plt.show()"
      ],
      "execution_count": null,
      "outputs": []
    },
    {
      "cell_type": "code",
      "metadata": {
        "id": "ZEGBxTsu-vN0"
      },
      "source": [
        "keras.metrics.mean_absolute_error(x_valid, diff_moving_avg_plus_past).numpy()"
      ],
      "execution_count": null,
      "outputs": []
    },
    {
      "cell_type": "code",
      "metadata": {
        "id": "YOzK4HhC-wWq"
      },
      "source": [
        "# instead of using the noisy past values themselves, use moving averaging on \r\n",
        "# them to remove some of the noise\r\n",
        "diff_moving_avg_plus_smooth_past = moving_average_forecast(series[split_time - 370:-359], 11) + diff_moving_avg\r\n",
        "plt.figure(figsize=(10, 6))\r\n",
        "plot_series(time_valid, x_valid, label=\"Series\")\r\n",
        "plot_series(time_valid, diff_moving_avg_plus_smooth_past, label=\"Forecasts\")\r\n",
        "plt.show()"
      ],
      "execution_count": null,
      "outputs": []
    },
    {
      "cell_type": "code",
      "metadata": {
        "id": "k8yXkfIfAqes"
      },
      "source": [
        "keras.metrics.mean_absolute_error(x_valid, diff_moving_avg_plus_smooth_past).numpy()"
      ],
      "execution_count": null,
      "outputs": []
    },
    {
      "cell_type": "markdown",
      "metadata": {
        "id": "tqxqiKnq8pzE"
      },
      "source": [
        "# Time Windows\r\n",
        "\r\n",
        "Based on: [Link to TF Example](https://colab.research.google.com/github/tensorflow/examples/blob/master/courses/udacity_intro_to_tensorflow_for_deep_learning/l08c04_time_windows.ipynb)"
      ]
    },
    {
      "cell_type": "code",
      "metadata": {
        "id": "SGaoDpniQtVI"
      },
      "source": [
        "dataset = tf.data.Dataset.range(10)\r\n",
        "for val in dataset:\r\n",
        "  print(val.numpy())"
      ],
      "execution_count": null,
      "outputs": []
    },
    {
      "cell_type": "code",
      "metadata": {
        "id": "tsqX2MEdRuAJ"
      },
      "source": [
        "# original\r\n",
        "dataset = tf.data.Dataset.range(10)\r\n",
        "dataset = dataset.window(5, shift=1)\r\n",
        "for window_dataset in dataset:\r\n",
        "    for val in window_dataset:\r\n",
        "        print(val.numpy(), end=\" \")\r\n",
        "    print()"
      ],
      "execution_count": null,
      "outputs": []
    },
    {
      "cell_type": "code",
      "metadata": {
        "id": "TWy4LLPLQ2kB"
      },
      "source": [
        "# cleaned dataset\r\n",
        "dataset = tf.data.Dataset.range(10)\r\n",
        "dataset = dataset.window(5, shift=1, drop_remainder=True)\r\n",
        "dataset = dataset.flat_map(lambda window: window.batch(5))\r\n",
        "dataset = dataset.map(lambda window: (window[:-1], window[-1:]))\r\n",
        "dataset = dataset.shuffle(buffer_size=10)\r\n",
        "dataset = dataset.batch(2).prefetch(1)\r\n",
        "\r\n",
        "for x, y in dataset:\r\n",
        "  print(\"x=\", x.numpy())\r\n",
        "  print(\"y=\", y.numpy())\r\n"
      ],
      "execution_count": null,
      "outputs": []
    },
    {
      "cell_type": "code",
      "metadata": {
        "id": "G0EgmgIdQ2Rw"
      },
      "source": [
        "# final dataset funtion\r\n",
        "def window_dataset(series, window_size, batch_size=32,\r\n",
        "                   shuffle_buffer=1000):\r\n",
        "    dataset = tf.data.Dataset.from_tensor_slices(series)\r\n",
        "    dataset = dataset.window(window_size + 1, shift=1, drop_remainder=True)\r\n",
        "    dataset = dataset.flat_map(lambda window: window.batch(window_size + 1))\r\n",
        "    dataset = dataset.shuffle(shuffle_buffer)\r\n",
        "    dataset = dataset.map(lambda window: (window[:-1], window[-1]))\r\n",
        "    dataset = dataset.batch(batch_size).prefetch(1)\r\n",
        "    return dataset"
      ],
      "execution_count": null,
      "outputs": []
    }
  ]
}